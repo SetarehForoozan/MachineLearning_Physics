{
 "cells": [
  {
   "cell_type": "code",
   "execution_count": 1,
   "metadata": {
    "collapsed": true
   },
   "outputs": [],
   "source": [
    "import numpy as np\n",
    "import pandas as pd\n",
    "import matplotlib.pyplot as plt\n",
    "\n",
    "import io, requests, zipfile\n",
    "\n",
    "\n",
    "\n",
    "'''Set the defaults for your plots.'''\n",
    "# plt.rcParams.update({'font.size': 20, 'figsize':(8,6)})\n",
    "SMALL_SIZE = 12\n",
    "MEDIUM_SIZE = 15\n",
    "BIGGER_SIZE = 18\n",
    "\n",
    "plt.rc('font', size=BIGGER_SIZE)          # controls default text sizes\n",
    "plt.rc('axes', titlesize=MEDIUM_SIZE)     # fontsize of the axes title\n",
    "plt.rc('axes', labelsize=BIGGER_SIZE)    # fontsize of the x and y labels\n",
    "plt.rc('xtick', labelsize=SMALL_SIZE)    # fontsize of the tick labels\n",
    "plt.rc('ytick', labelsize=SMALL_SIZE)    # fontsize of the tick labels\n",
    "plt.rc('legend', fontsize=MEDIUM_SIZE)    # legend fontsize\n",
    "plt.rc('figure', titlesize=BIGGER_SIZE)  # fontsize of the figure title\n",
    "\n",
    "plt.rc('axes', linewidth = 5 )\n",
    "plt.rc('lines', linewidth = 5 )\n",
    "\n",
    "plt.rc('lines', markersize = 5 )\n",
    "\n",
    "plt.rc('figure', figsize=(8,4) )         # Image size\n",
    "\n",
    "from zipfile import ZipFile\n",
    "\n",
    "\n",
    "from collections import Counter\n",
    "\n",
    "import warnings\n",
    "warnings.filterwarnings('ignore')\n",
    "\n",
    "from sklearn.utils import shuffle\n",
    "from sklearn.metrics import confusion_matrix\n",
    "from sklearn.neighbors import KNeighborsRegressor\n",
    "from sklearn.linear_model import LinearRegression, Ridge, SGDClassifier\n",
    "from sklearn.svm import SVR\n",
    "from sklearn.model_selection import train_test_split\n",
    "from sklearn.preprocessing import PolynomialFeatures , StandardScaler, RobustScaler\n",
    "from sklearn.metrics import mean_squared_error  ## To calculate the loss\n",
    "from sklearn.naive_bayes import GaussianNB\n",
    "from sklearn.tree import DecisionTreeRegressor\n",
    "\n",
    "from sklearn.model_selection import GridSearchCV, RandomizedSearchCV\n",
    "\n",
    "from sklearn.svm import SVC\n",
    "from sklearn.neighbors import KNeighborsClassifier\n",
    "\n",
    "from sklearn.model_selection import learning_curve, validation_curve\n"
   ]
  },
  {
   "cell_type": "code",
   "execution_count": 2,
   "metadata": {
    "collapsed": true
   },
   "outputs": [],
   "source": [
    "X = np.load('X.npz')['arr_0']\n",
    "Y = np.load('Y.npz')['arr_0']"
   ]
  },
  {
   "cell_type": "code",
   "execution_count": 3,
   "metadata": {
    "collapsed": false
   },
   "outputs": [
    {
     "data": {
      "image/png": "[encoded data removed]",
      "text/plain": [
       "<Figure size 432x288 with 1 Axes>"
      ]
     },
     "metadata": {
      "needs_background": "light"
     },
     "output_type": "display_data"
    }
   ],
   "source": [
    "rand_ind = np.random.randint(0,100000)\n",
    "fig = plt.figure(figsize=(6,4))\n",
    "ax = fig.add_subplot(111,title = 'This should be a {}'.format(Y[rand_ind]))\n",
    "ax.imshow(X[rand_ind])\n",
    "plt.show()\n"
   ]
  },
  {
   "cell_type": "code",
   "execution_count": 4,
   "metadata": {
    "collapsed": false
   },
   "outputs": [
    {
     "data": {
      "text/plain": [
       "(102352, 32, 32)"
      ]
     },
     "execution_count": 4,
     "metadata": {},
     "output_type": "execute_result"
    }
   ],
   "source": [
    "X.shape "
   ]
  },
  {
   "cell_type": "code",
   "execution_count": 5,
   "metadata": {
    "collapsed": false
   },
   "outputs": [
    {
     "data": {
      "text/plain": [
       "(1000, 1024)"
      ]
     },
     "execution_count": 5,
     "metadata": {},
     "output_type": "execute_result"
    }
   ],
   "source": [
    "n = 1000\n",
    "\n",
    "X = X.reshape(-1,32*32)\n",
    "Y_actual = np.copy(Y)\n",
    "X_actual = np.copy(X)\n",
    "Y = Y[:n]\n",
    "X = X[:n]\n",
    "\n",
    "X_train, X_test, Y_train, Y_test = train_test_split(X, Y, random_state = 0)\n",
    "X.shape"
   ]
  },
  {
   "cell_type": "code",
   "execution_count": 6,
   "metadata": {
    "collapsed": false
   },
   "outputs": [
    {
     "name": "stdout",
     "output_type": "stream",
     "text": [
      "The dummy classifier can give a score of 0.06 on the test data.\n"
     ]
    }
   ],
   "source": [
    "## Let's try a dummy classifier that constantly outputs the more probable class.\n",
    "from sklearn.dummy import DummyClassifier\n",
    "\n",
    "dm_clf = DummyClassifier(strategy='most_frequent')\n",
    "dm_clf.fit(X_train, Y_train)\n",
    "dm_Y_predicted = dm_clf.predict(X)\n",
    "print('The dummy classifier can give a score of {} on the test data.'.format(dm_clf.score(X_test,Y_test)))"
   ]
  },
  {
   "cell_type": "code",
   "execution_count": 7,
   "metadata": {
    "collapsed": false
   },
   "outputs": [
    {
     "name": "stdout",
     "output_type": "stream",
     "text": [
      "[[  0   0   0 105   0   0   0   0   0   0]\n",
      " [  0   0   0 101   0   0   0   0   0   0]\n",
      " [  0   0   0 104   0   0   0   0   0   0]\n",
      " [  0   0   0 109   0   0   0   0   0   0]\n",
      " [  0   0   0  89   0   0   0   0   0   0]\n",
      " [  0   0   0 109   0   0   0   0   0   0]\n",
      " [  0   0   0  78   0   0   0   0   0   0]\n",
      " [  0   0   0  91   0   0   0   0   0   0]\n",
      " [  0   0   0 106   0   0   0   0   0   0]\n",
      " [  0   0   0 108   0   0   0   0   0   0]]\n"
     ]
    }
   ],
   "source": [
    "dm_cnfmatrix = confusion_matrix(Y,dm_Y_predicted)\n",
    "print(dm_cnfmatrix)"
   ]
  },
  {
   "cell_type": "code",
   "execution_count": 8,
   "metadata": {
    "collapsed": false
   },
   "outputs": [
    {
     "name": "stdout",
     "output_type": "stream",
     "text": [
      "              precision    recall  f1-score   support\n",
      "\n",
      "           0       0.00      0.00      0.00       105\n",
      "           1       0.00      0.00      0.00       101\n",
      "           2       0.00      0.00      0.00       104\n",
      "           3       0.11      1.00      0.20       109\n",
      "           4       0.00      0.00      0.00        89\n",
      "           5       0.00      0.00      0.00       109\n",
      "           6       0.00      0.00      0.00        78\n",
      "           7       0.00      0.00      0.00        91\n",
      "           8       0.00      0.00      0.00       106\n",
      "           9       0.00      0.00      0.00       108\n",
      "\n",
      "   micro avg       0.11      0.11      0.11      1000\n",
      "   macro avg       0.01      0.10      0.02      1000\n",
      "weighted avg       0.01      0.11      0.02      1000\n",
      "\n"
     ]
    }
   ],
   "source": [
    "from sklearn.metrics import classification_report\n",
    "dm_clf_report = classification_report(Y, dm_Y_predicted)\n",
    "print(dm_clf_report)"
   ]
  },
  {
   "cell_type": "code",
   "execution_count": 23,
   "metadata": {
    "collapsed": true
   },
   "outputs": [],
   "source": [
    "from sklearn.model_selection import learning_curve, validation_curve\n",
    "from sklearn.svm import SVC\n",
    "from sklearn.neighbors import KNeighborsClassifier\n",
    "from sklearn.linear_model import SGDClassifier"
   ]
  },
  {
   "cell_type": "code",
   "execution_count": 15,
   "metadata": {
    "collapsed": false
   },
   "outputs": [
    {
     "name": "stdout",
     "output_type": "stream",
     "text": [
      "SVC gives a score of 0.7493333333333333 on training data and \n",
      " 0.876 on test data.\n"
     ]
    }
   ],
   "source": [
    "svc_clf = SVC().fit(X_train,Y_train)\n",
    "svc_clf.fit (X_test , Y_test)\n",
    "print('SVC gives a score of {} on training data and \\n {} on test data.'.format(svc_clf.score(X_train, Y_train ),svc_clf.score(X_test, Y_test )  )  )\n"
   ]
  },
  {
   "cell_type": "code",
   "execution_count": 16,
   "metadata": {
    "collapsed": false
   },
   "outputs": [
    {
     "name": "stdout",
     "output_type": "stream",
     "text": [
      "[[101   0   0   0   2   2   0   0   0   0]\n",
      " [  0  98   3   0   0   0   0   0   0   0]\n",
      " [  1   4  97   0   1   0   1   0   0   0]\n",
      " [  0   0  35   2  70   0   0   1   1   0]\n",
      " [  3   0  12   0  74   0   0   0   0   0]\n",
      " [  3   0   0   0   1  96   0   0   9   0]\n",
      " [  0   0  21   0   0   0  41   1   2  13]\n",
      " [  6   0   2   0   1   2  10  70   0   0]\n",
      " [  0   1   1   0   1   0   0   0 103   0]\n",
      " [  1   1   3   0   0   0   1   0   3  99]]\n"
     ]
    }
   ],
   "source": [
    "svc_Y_predicted = svc_clf.predict(X)\n",
    "svc_cnfmatrix = confusion_matrix(Y,svc_Y_predicted)\n",
    "print(svc_cnfmatrix)"
   ]
  },
  {
   "cell_type": "code",
   "execution_count": 17,
   "metadata": {
    "collapsed": false
   },
   "outputs": [
    {
     "name": "stdout",
     "output_type": "stream",
     "text": [
      "              precision    recall  f1-score   support\n",
      "\n",
      "           0       0.88      0.96      0.92       105\n",
      "           1       0.94      0.97      0.96       101\n",
      "           2       0.56      0.93      0.70       104\n",
      "           3       1.00      0.02      0.04       109\n",
      "           4       0.49      0.83      0.62        89\n",
      "           5       0.96      0.88      0.92       109\n",
      "           6       0.77      0.53      0.63        78\n",
      "           7       0.97      0.77      0.86        91\n",
      "           8       0.87      0.97      0.92       106\n",
      "           9       0.88      0.92      0.90       108\n",
      "\n",
      "   micro avg       0.78      0.78      0.78      1000\n",
      "   macro avg       0.83      0.78      0.75      1000\n",
      "weighted avg       0.84      0.78      0.75      1000\n",
      "\n"
     ]
    }
   ],
   "source": [
    "svc_clf_report = classification_report(Y, svc_Y_predicted)\n",
    "print(svc_clf_report)"
   ]
  },
  {
   "cell_type": "code",
   "execution_count": 18,
   "metadata": {
    "collapsed": false
   },
   "outputs": [
    {
     "data": {
      "text/plain": [
       "0.936"
      ]
     },
     "execution_count": 18,
     "metadata": {},
     "output_type": "execute_result"
    }
   ],
   "source": [
    "knn_clf = KNeighborsClassifier(n_neighbors=3).fit(X_train,Y_train)\n",
    "knn_clf.fit (X_test , Y_test)\n",
    "knn_clf.score(X_test, Y_test ) "
   ]
  },
  {
   "cell_type": "code",
   "execution_count": 19,
   "metadata": {
    "collapsed": false
   },
   "outputs": [
    {
     "name": "stdout",
     "output_type": "stream",
     "text": [
      "[[104   0   0   0   1   0   0   0   0   0]\n",
      " [  0 101   0   0   0   0   0   0   0   0]\n",
      " [  2   7  94   0   0   0   0   1   0   0]\n",
      " [  1   3  14  82   9   0   0   0   0   0]\n",
      " [  5   3   5   4  72   0   0   0   0   0]\n",
      " [  7   2   1   0   0  87   1   0  11   0]\n",
      " [  2   2  12   0   0   1  48   1   1  11]\n",
      " [  5   0   2   0   0   0   3  81   0   0]\n",
      " [  1   2   1   0   0   0   0   0 102   0]\n",
      " [  3   6   0   0   0   0   0   0   1  98]]\n"
     ]
    }
   ],
   "source": [
    "knn_Y_predicted = knn_clf.predict(X)\n",
    "knn_cnfmatrix = confusion_matrix(Y,knn_Y_predicted)\n",
    "print(knn_cnfmatrix)"
   ]
  },
  {
   "cell_type": "code",
   "execution_count": 20,
   "metadata": {
    "collapsed": false
   },
   "outputs": [
    {
     "name": "stdout",
     "output_type": "stream",
     "text": [
      "              precision    recall  f1-score   support\n",
      "\n",
      "           0       0.80      0.99      0.89       105\n",
      "           1       0.80      1.00      0.89       101\n",
      "           2       0.73      0.90      0.81       104\n",
      "           3       0.95      0.75      0.84       109\n",
      "           4       0.88      0.81      0.84        89\n",
      "           5       0.99      0.80      0.88       109\n",
      "           6       0.92      0.62      0.74        78\n",
      "           7       0.98      0.89      0.93        91\n",
      "           8       0.89      0.96      0.92       106\n",
      "           9       0.90      0.91      0.90       108\n",
      "\n",
      "   micro avg       0.87      0.87      0.87      1000\n",
      "   macro avg       0.88      0.86      0.86      1000\n",
      "weighted avg       0.88      0.87      0.87      1000\n",
      "\n"
     ]
    }
   ],
   "source": [
    "knn_clf_report = classification_report(Y, knn_Y_predicted)\n",
    "print(knn_clf_report)"
   ]
  },
  {
   "cell_type": "code",
   "execution_count": 22,
   "metadata": {
    "collapsed": false
   },
   "outputs": [
    {
     "data": {
      "image/png": "[encoded data removed]",
      "text/plain": [
       "<Figure size 432x288 with 1 Axes>"
      ]
     },
     "metadata": {
      "needs_background": "light"
     },
     "output_type": "display_data"
    }
   ],
   "source": [
    "n, train_scores, validation_scores = learning_curve(\n",
    "                                                   estimator = SVC(), X = X,\n",
    "                                                   y = Y,  cv = 5,\n",
    "                                                   scoring = 'accuracy')\n",
    "\n",
    "train_scores_mean = train_scores.mean(axis = 1)\n",
    "validation_scores_mean = validation_scores.mean(axis = 1)\n",
    "\n",
    "xlabel = 'Sample Size'\n",
    "ylabel = 'Accuracy'\n",
    "\n",
    "svc_title = 'Learning curve for classification with SVC'\n",
    "\n",
    "fig = plt.figure()\n",
    "ax = fig.add_subplot(111, xlabel=xlabel, ylabel=ylabel, title=svc_title)\n",
    "ax.plot(n, train_scores_mean, label = 'Training Score')\n",
    "ax.plot(n, validation_scores_mean, label = 'Validation Score')\n",
    "# plt.yscale('log')\n",
    "ax.legend(loc=0)\n",
    "plt.show()"
   ]
  },
  {
   "cell_type": "code",
   "execution_count": 27,
   "metadata": {
    "collapsed": false
   },
   "outputs": [
    {
     "name": "stdout",
     "output_type": "stream",
     "text": [
      "The sgd classifier can give a score of 1.0 on the test data.\n"
     ]
    }
   ],
   "source": [
    "sgd_clf = SGDClassifier().fit(X_train,Y_train)\n",
    "sgd_clf.fit(X_test, Y_test)\n",
    "print('The sgd classifier can give a score of {} on the test data.'.format(sgd_clf.score(X_test,Y_test)))"
   ]
  },
  {
   "cell_type": "code",
   "execution_count": 25,
   "metadata": {
    "collapsed": false
   },
   "outputs": [
    {
     "data": {
      "image/png": "[encoded data removed]",
      "text/plain": [
       "<Figure size 432x288 with 1 Axes>"
      ]
     },
     "metadata": {
      "needs_background": "light"
     },
     "output_type": "display_data"
    }
   ],
   "source": [
    "n, train_scores, validation_scores = learning_curve(\n",
    "                                                   estimator = SGDClassifier(), X = X,\n",
    "                                                   y = Y,  cv = 5,\n",
    "                                                   scoring = 'accuracy')\n",
    "\n",
    "train_scores_mean = train_scores.mean(axis = 1)\n",
    "validation_scores_mean = validation_scores.mean(axis = 1)\n",
    "\n",
    "xlabel = 'Sample Size'\n",
    "ylabel = 'Accuracy'\n",
    "\n",
    "svc_title = 'Learning curve for classification with SVC'\n",
    "\n",
    "fig = plt.figure()\n",
    "ax = fig.add_subplot(111, xlabel=xlabel, ylabel=ylabel, title=svc_title)\n",
    "ax.plot(n, train_scores_mean, label = 'Training Score')\n",
    "ax.plot(n, validation_scores_mean, label = 'Validation Score')\n",
    "plt.yscale('log')\n",
    "ax.legend(loc=0)\n",
    "plt.show()"
   ]
  },
  {
   "cell_type": "code",
   "execution_count": 28,
   "metadata": {
    "collapsed": false
   },
   "outputs": [
    {
     "name": "stdout",
     "output_type": "stream",
     "text": [
      "[[101   0   0   0   0   0   1   3   0   0]\n",
      " [  0  98   2   0   1   0   0   0   0   0]\n",
      " [  0   0  94   4   5   0   0   0   0   1]\n",
      " [  0   1   8  87  12   0   0   1   0   0]\n",
      " [  3   4   2   7  70   0   0   1   2   0]\n",
      " [  1   2   0   0   0 100   0   3   3   0]\n",
      " [  1   1   3   2   2   0  58   2   2   7]\n",
      " [  4   0   1   0   1   1   6  78   0   0]\n",
      " [  0   1   1   0   0   1   0   0 103   0]\n",
      " [  1   2   2   0   2   0   2   0   1  98]]\n"
     ]
    }
   ],
   "source": [
    "sgd_Y_predicted = sgd_clf.predict(X)\n",
    "sgd_cnfmatrix = confusion_matrix(Y,sgd_Y_predicted)\n",
    "print(sgd_cnfmatrix)"
   ]
  },
  {
   "cell_type": "code",
   "execution_count": 29,
   "metadata": {
    "collapsed": false
   },
   "outputs": [
    {
     "name": "stdout",
     "output_type": "stream",
     "text": [
      "              precision    recall  f1-score   support\n",
      "\n",
      "           0       0.91      0.96      0.94       105\n",
      "           1       0.90      0.97      0.93       101\n",
      "           2       0.83      0.90      0.87       104\n",
      "           3       0.87      0.80      0.83       109\n",
      "           4       0.75      0.79      0.77        89\n",
      "           5       0.98      0.92      0.95       109\n",
      "           6       0.87      0.74      0.80        78\n",
      "           7       0.89      0.86      0.87        91\n",
      "           8       0.93      0.97      0.95       106\n",
      "           9       0.92      0.91      0.92       108\n",
      "\n",
      "   micro avg       0.89      0.89      0.89      1000\n",
      "   macro avg       0.88      0.88      0.88      1000\n",
      "weighted avg       0.89      0.89      0.89      1000\n",
      "\n"
     ]
    }
   ],
   "source": [
    "sgd_clf_report = classification_report(Y, sgd_Y_predicted)\n",
    "print(sgd_clf_report)"
   ]
  }
 ],
 "metadata": {
  "kernelspec": {
   "display_name": "Python 3",
   "language": "python",
   "name": "python3"
  },
  "language_info": {
   "codemirror_mode": {
    "name": "ipython",
    "version": 3
   },
   "file_extension": ".py",
   "mimetype": "text/x-python",
   "name": "python",
   "nbconvert_exporter": "python",
   "pygments_lexer": "ipython3",
   "version": "3.5.4"
  }
 },
 "nbformat": 4,
 "nbformat_minor": 2
}
